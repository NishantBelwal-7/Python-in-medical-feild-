{
 "cells": [
  {
   "cell_type": "markdown",
   "metadata": {},
   "source": [
    "# Taxt to Speech converter By Karan Patel"
   ]
  },
  {
   "cell_type": "markdown",
   "metadata": {},
   "source": [
    " How can you use this program ?\n",
    " \n",
    " 1. Simple taxt reader (One line reader)\n",
    " \n",
    " 2. You can make text reading application like (Amazon Kindle, google book reader)\n",
    " \n",
    " 3. Assistive device for blind (Bio medical application)"
   ]
  },
  {
   "cell_type": "code",
   "execution_count": 7,
   "metadata": {},
   "outputs": [],
   "source": [
    "# Import the required module for text \n",
    "# to speech conversion \n",
    "\n",
    "from pygame import mixer\n",
    "from gtts import gTTS\n",
    "import os\n",
    "import sys\n",
    "import msvcrt"
   ]
  },
  {
   "cell_type": "code",
   "execution_count": 8,
   "metadata": {},
   "outputs": [
    {
     "name": "stdout",
     "output_type": "stream",
     "text": [
      "write here what ever you want to convert into speak :         पैदल या ट्रक में आ रहे मजदूरों को यूपी में नहीं मिलेगी एंट्री, योगी सरकार का आदेश\n"
     ]
    }
   ],
   "source": [
    "text_en  = input(\"write here what ever you want to convert into speak :         \")"
   ]
  },
  {
   "cell_type": "code",
   "execution_count": 3,
   "metadata": {},
   "outputs": [],
   "source": [
    "# Language in which you want to convert \n",
    "language = 'hi'\n",
    "\n",
    "## Supported Languages <a name=\"lang_list\"></a>"
   ]
  },
  {
   "cell_type": "markdown",
   "metadata": {},
   "source": [
    "* 'af' : 'Afrikaans'\n",
    "* 'sq' : 'Albanian'\n",
    "* 'ar' : 'Arabic'\n",
    "* 'hy' : 'Armenian'\n",
    "* 'bn' : 'Bengali'\n",
    "* 'ca' : 'Catalan'\n",
    "* 'zh' : 'Chinese'\n",
    "* 'zh-cn' : 'Chinese (Mandarin/China)'\n",
    "* 'zh-tw' : 'Chinese (Mandarin/Taiwan)'\n",
    "* 'zh-yue' : 'Chinese (Cantonese)'\n",
    "* 'hr' : 'Croatian'\n",
    "* 'cs' : 'Czech'\n",
    "* 'da' : 'Danish'\n",
    "* 'nl' : 'Dutch'\n",
    "* 'en' : 'English'\n",
    "* 'en-au' : 'English (Australia)'\n",
    "* 'en-uk' : 'English (United Kingdom)'\n",
    "* 'en-us' : 'English (United States)'\n",
    "* 'eo' : 'Esperanto'\n",
    "* 'fi' : 'Finnish'\n",
    "* 'fr' : 'French'\n",
    "* 'de' : 'German'\n",
    "* 'el' : 'Greek'\n",
    "* 'hi' : 'Hindi'\n",
    "* 'hu' : 'Hungarian'\n",
    "* 'is' : 'Icelandic'\n",
    "* 'id' : 'Indonesian'\n",
    "* 'it' : 'Italian'\n",
    "* 'ja' : 'Japanese'\n",
    "* 'km' : 'Khmer (Cambodian)'\n",
    "* 'ko' : 'Korean'\n",
    "* 'la' : 'Latin'\n",
    "* 'lv' : 'Latvian'\n",
    "* 'mk' : 'Macedonian'\n",
    "* 'no' : 'Norwegian'\n",
    "* 'pl' : 'Polish'\n",
    "* 'pt' : 'Portuguese'\n",
    "* 'ro' : 'Romanian'\n",
    "* 'ru' : 'Russian'\n",
    "* 'sr' : 'Serbian'\n",
    "* 'si' : 'Sinhala'\n",
    "* 'sk' : 'Slovak'\n",
    "* 'es' : 'Spanish'\n",
    "* 'es-es' : 'Spanish (Spain)'\n",
    "* 'es-us' : 'Spanish (United States)'\n",
    "* 'sw' : 'Swahili'\n",
    "* 'sv' : 'Swedish'\n",
    "* 'ta' : 'Tamil'\n",
    "* 'th' : 'Thai'\n",
    "* 'tr' : 'Turkish'\n",
    "* 'uk' : 'Ukrainian'\n",
    "* 'vi' : 'Vietnamese'\n",
    "* 'cy' : 'Welsh'"
   ]
  },
  {
   "cell_type": "code",
   "execution_count": 9,
   "metadata": {},
   "outputs": [],
   "source": [
    "myobj = gTTS(text=text_en, lang=language, slow=False) "
   ]
  },
  {
   "cell_type": "code",
   "execution_count": 10,
   "metadata": {},
   "outputs": [],
   "source": [
    "# Saving the converted audio in a mp3 file named \n",
    "\n",
    "myobj.save(\"karan_hindi.mp3\") "
   ]
  },
  {
   "cell_type": "code",
   "execution_count": 11,
   "metadata": {},
   "outputs": [],
   "source": [
    "# Playing the converted file\n",
    "\n",
    "mixer.init()\n",
    "\n",
    "mixer.music.load(\"karan_hindi.mp3\")\n",
    "\n",
    "mixer.music.play()"
   ]
  },
  {
   "cell_type": "code",
   "execution_count": null,
   "metadata": {},
   "outputs": [],
   "source": []
  }
 ],
 "metadata": {
  "kernelspec": {
   "display_name": "Python 3",
   "language": "python",
   "name": "python3"
  },
  "language_info": {
   "codemirror_mode": {
    "name": "ipython",
    "version": 3
   },
   "file_extension": ".py",
   "mimetype": "text/x-python",
   "name": "python",
   "nbconvert_exporter": "python",
   "pygments_lexer": "ipython3",
   "version": "3.7.6"
  }
 },
 "nbformat": 4,
 "nbformat_minor": 4
}
